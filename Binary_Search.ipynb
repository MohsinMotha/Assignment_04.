{
  "nbformat": 4,
  "nbformat_minor": 0,
  "metadata": {
    "colab": {
      "provenance": []
    },
    "kernelspec": {
      "name": "python3",
      "display_name": "Python 3"
    },
    "language_info": {
      "name": "python"
    },
    "widgets": {
      "application/vnd.jupyter.widget-state+json": {
        "5d5cbf67ab014f2a83ac9cf32bebf59e": {
          "model_module": "@jupyter-widgets/controls",
          "model_name": "IntSliderModel",
          "model_module_version": "1.5.0",
          "state": {
            "_dom_classes": [],
            "_model_module": "@jupyter-widgets/controls",
            "_model_module_version": "1.5.0",
            "_model_name": "IntSliderModel",
            "_view_count": null,
            "_view_module": "@jupyter-widgets/controls",
            "_view_module_version": "1.5.0",
            "_view_name": "IntSliderView",
            "continuous_update": true,
            "description": "List Size:",
            "description_tooltip": null,
            "disabled": false,
            "layout": "IPY_MODEL_53e02fc59d7c4212b0c0062fff8adb0d",
            "max": 10000,
            "min": 10,
            "orientation": "horizontal",
            "readout": true,
            "readout_format": "d",
            "step": 10,
            "style": "IPY_MODEL_67799e1983bb4cd9ac72b94dbc72e34c",
            "value": 10
          }
        },
        "53e02fc59d7c4212b0c0062fff8adb0d": {
          "model_module": "@jupyter-widgets/base",
          "model_name": "LayoutModel",
          "model_module_version": "1.2.0",
          "state": {
            "_model_module": "@jupyter-widgets/base",
            "_model_module_version": "1.2.0",
            "_model_name": "LayoutModel",
            "_view_count": null,
            "_view_module": "@jupyter-widgets/base",
            "_view_module_version": "1.2.0",
            "_view_name": "LayoutView",
            "align_content": null,
            "align_items": null,
            "align_self": null,
            "border": null,
            "bottom": null,
            "display": null,
            "flex": null,
            "flex_flow": null,
            "grid_area": null,
            "grid_auto_columns": null,
            "grid_auto_flow": null,
            "grid_auto_rows": null,
            "grid_column": null,
            "grid_gap": null,
            "grid_row": null,
            "grid_template_areas": null,
            "grid_template_columns": null,
            "grid_template_rows": null,
            "height": null,
            "justify_content": null,
            "justify_items": null,
            "left": null,
            "margin": null,
            "max_height": null,
            "max_width": null,
            "min_height": null,
            "min_width": null,
            "object_fit": null,
            "object_position": null,
            "order": null,
            "overflow": null,
            "overflow_x": null,
            "overflow_y": null,
            "padding": null,
            "right": null,
            "top": null,
            "visibility": null,
            "width": null
          }
        },
        "67799e1983bb4cd9ac72b94dbc72e34c": {
          "model_module": "@jupyter-widgets/controls",
          "model_name": "SliderStyleModel",
          "model_module_version": "1.5.0",
          "state": {
            "_model_module": "@jupyter-widgets/controls",
            "_model_module_version": "1.5.0",
            "_model_name": "SliderStyleModel",
            "_view_count": null,
            "_view_module": "@jupyter-widgets/base",
            "_view_module_version": "1.2.0",
            "_view_name": "StyleView",
            "description_width": "",
            "handle_color": null
          }
        },
        "5ab5cdbab0de4ba998c7bb1425dc9e04": {
          "model_module": "@jupyter-widgets/controls",
          "model_name": "IntTextModel",
          "model_module_version": "1.5.0",
          "state": {
            "_dom_classes": [],
            "_model_module": "@jupyter-widgets/controls",
            "_model_module_version": "1.5.0",
            "_model_name": "IntTextModel",
            "_view_count": null,
            "_view_module": "@jupyter-widgets/controls",
            "_view_module_version": "1.5.0",
            "_view_name": "IntTextView",
            "continuous_update": false,
            "description": "Search For:",
            "description_tooltip": null,
            "disabled": false,
            "layout": "IPY_MODEL_146f72c516a94dd99a185597be985ad9",
            "step": 1,
            "style": "IPY_MODEL_9f072096906449f884dd6b961ecfba00",
            "value": 2
          }
        },
        "146f72c516a94dd99a185597be985ad9": {
          "model_module": "@jupyter-widgets/base",
          "model_name": "LayoutModel",
          "model_module_version": "1.2.0",
          "state": {
            "_model_module": "@jupyter-widgets/base",
            "_model_module_version": "1.2.0",
            "_model_name": "LayoutModel",
            "_view_count": null,
            "_view_module": "@jupyter-widgets/base",
            "_view_module_version": "1.2.0",
            "_view_name": "LayoutView",
            "align_content": null,
            "align_items": null,
            "align_self": null,
            "border": null,
            "bottom": null,
            "display": null,
            "flex": null,
            "flex_flow": null,
            "grid_area": null,
            "grid_auto_columns": null,
            "grid_auto_flow": null,
            "grid_auto_rows": null,
            "grid_column": null,
            "grid_gap": null,
            "grid_row": null,
            "grid_template_areas": null,
            "grid_template_columns": null,
            "grid_template_rows": null,
            "height": null,
            "justify_content": null,
            "justify_items": null,
            "left": null,
            "margin": null,
            "max_height": null,
            "max_width": null,
            "min_height": null,
            "min_width": null,
            "object_fit": null,
            "object_position": null,
            "order": null,
            "overflow": null,
            "overflow_x": null,
            "overflow_y": null,
            "padding": null,
            "right": null,
            "top": null,
            "visibility": null,
            "width": null
          }
        },
        "9f072096906449f884dd6b961ecfba00": {
          "model_module": "@jupyter-widgets/controls",
          "model_name": "DescriptionStyleModel",
          "model_module_version": "1.5.0",
          "state": {
            "_model_module": "@jupyter-widgets/controls",
            "_model_module_version": "1.5.0",
            "_model_name": "DescriptionStyleModel",
            "_view_count": null,
            "_view_module": "@jupyter-widgets/base",
            "_view_module_version": "1.2.0",
            "_view_name": "StyleView",
            "description_width": ""
          }
        },
        "a093fc2028cd4815ae4c7bce314f2522": {
          "model_module": "@jupyter-widgets/controls",
          "model_name": "ButtonModel",
          "model_module_version": "1.5.0",
          "state": {
            "_dom_classes": [],
            "_model_module": "@jupyter-widgets/controls",
            "_model_module_version": "1.5.0",
            "_model_name": "ButtonModel",
            "_view_count": null,
            "_view_module": "@jupyter-widgets/controls",
            "_view_module_version": "1.5.0",
            "_view_name": "ButtonView",
            "button_style": "success",
            "description": "Start Search",
            "disabled": false,
            "icon": "",
            "layout": "IPY_MODEL_089d63f1dcdc46b1a784594663b6fdd5",
            "style": "IPY_MODEL_f190ef7d9c774042a9e6a4c538c1b975",
            "tooltip": ""
          }
        },
        "089d63f1dcdc46b1a784594663b6fdd5": {
          "model_module": "@jupyter-widgets/base",
          "model_name": "LayoutModel",
          "model_module_version": "1.2.0",
          "state": {
            "_model_module": "@jupyter-widgets/base",
            "_model_module_version": "1.2.0",
            "_model_name": "LayoutModel",
            "_view_count": null,
            "_view_module": "@jupyter-widgets/base",
            "_view_module_version": "1.2.0",
            "_view_name": "LayoutView",
            "align_content": null,
            "align_items": null,
            "align_self": null,
            "border": null,
            "bottom": null,
            "display": null,
            "flex": null,
            "flex_flow": null,
            "grid_area": null,
            "grid_auto_columns": null,
            "grid_auto_flow": null,
            "grid_auto_rows": null,
            "grid_column": null,
            "grid_gap": null,
            "grid_row": null,
            "grid_template_areas": null,
            "grid_template_columns": null,
            "grid_template_rows": null,
            "height": null,
            "justify_content": null,
            "justify_items": null,
            "left": null,
            "margin": null,
            "max_height": null,
            "max_width": null,
            "min_height": null,
            "min_width": null,
            "object_fit": null,
            "object_position": null,
            "order": null,
            "overflow": null,
            "overflow_x": null,
            "overflow_y": null,
            "padding": null,
            "right": null,
            "top": null,
            "visibility": null,
            "width": null
          }
        },
        "f190ef7d9c774042a9e6a4c538c1b975": {
          "model_module": "@jupyter-widgets/controls",
          "model_name": "ButtonStyleModel",
          "model_module_version": "1.5.0",
          "state": {
            "_model_module": "@jupyter-widgets/controls",
            "_model_module_version": "1.5.0",
            "_model_name": "ButtonStyleModel",
            "_view_count": null,
            "_view_module": "@jupyter-widgets/base",
            "_view_module_version": "1.2.0",
            "_view_name": "StyleView",
            "button_color": null,
            "font_weight": ""
          }
        },
        "520ecbd10eb24e25bb659351a772e062": {
          "model_module": "@jupyter-widgets/output",
          "model_name": "OutputModel",
          "model_module_version": "1.0.0",
          "state": {
            "_dom_classes": [],
            "_model_module": "@jupyter-widgets/output",
            "_model_module_version": "1.0.0",
            "_model_name": "OutputModel",
            "_view_count": null,
            "_view_module": "@jupyter-widgets/output",
            "_view_module_version": "1.0.0",
            "_view_name": "OutputView",
            "layout": "IPY_MODEL_057fadc1ca354ff3994b60d4d1105ecf",
            "msg_id": "",
            "outputs": [
              {
                "output_type": "display_data",
                "data": {
                  "text/plain": "<IPython.core.display.Markdown object>",
                  "text/markdown": "### 📊 **Search Results**"
                },
                "metadata": {}
              },
              {
                "output_type": "stream",
                "name": "stdout",
                "text": [
                  "Naive Search Index: 6 ⏱️ 0.0000006800 seconds\n",
                  "Binary Search Index: 6 ⏱️ 0.0000006778 seconds\n",
                  "\n"
                ]
              },
              {
                "output_type": "display_data",
                "data": {
                  "text/plain": "<IPython.core.display.Markdown object>",
                  "text/markdown": "### ⚖️ **Performance Comparison**"
                },
                "metadata": {}
              },
              {
                "output_type": "stream",
                "name": "stdout",
                "text": [
                  "🔸 Naive Search took 0.0000006800 seconds on average.\n",
                  "🔹 Binary Search took 0.0000006778 seconds on average.\n",
                  "\n",
                  "🚀 Binary Search is faster and more efficient on sorted lists!\n"
                ]
              }
            ]
          }
        },
        "057fadc1ca354ff3994b60d4d1105ecf": {
          "model_module": "@jupyter-widgets/base",
          "model_name": "LayoutModel",
          "model_module_version": "1.2.0",
          "state": {
            "_model_module": "@jupyter-widgets/base",
            "_model_module_version": "1.2.0",
            "_model_name": "LayoutModel",
            "_view_count": null,
            "_view_module": "@jupyter-widgets/base",
            "_view_module_version": "1.2.0",
            "_view_name": "LayoutView",
            "align_content": null,
            "align_items": null,
            "align_self": null,
            "border": null,
            "bottom": null,
            "display": null,
            "flex": null,
            "flex_flow": null,
            "grid_area": null,
            "grid_auto_columns": null,
            "grid_auto_flow": null,
            "grid_auto_rows": null,
            "grid_column": null,
            "grid_gap": null,
            "grid_row": null,
            "grid_template_areas": null,
            "grid_template_columns": null,
            "grid_template_rows": null,
            "height": null,
            "justify_content": null,
            "justify_items": null,
            "left": null,
            "margin": null,
            "max_height": null,
            "max_width": null,
            "min_height": null,
            "min_width": null,
            "object_fit": null,
            "object_position": null,
            "order": null,
            "overflow": null,
            "overflow_x": null,
            "overflow_y": null,
            "padding": null,
            "right": null,
            "top": null,
            "visibility": null,
            "width": null
          }
        }
      }
    }
  },
  "cells": [
    {
      "cell_type": "code",
      "execution_count": 4,
      "metadata": {
        "colab": {
          "base_uri": "https://localhost:8080/",
          "height": 435,
          "referenced_widgets": [
            "5d5cbf67ab014f2a83ac9cf32bebf59e",
            "53e02fc59d7c4212b0c0062fff8adb0d",
            "67799e1983bb4cd9ac72b94dbc72e34c",
            "5ab5cdbab0de4ba998c7bb1425dc9e04",
            "146f72c516a94dd99a185597be985ad9",
            "9f072096906449f884dd6b961ecfba00",
            "a093fc2028cd4815ae4c7bce314f2522",
            "089d63f1dcdc46b1a784594663b6fdd5",
            "f190ef7d9c774042a9e6a4c538c1b975",
            "520ecbd10eb24e25bb659351a772e062",
            "057fadc1ca354ff3994b60d4d1105ecf"
          ]
        },
        "id": "U2ePUGj0iBh_",
        "outputId": "b4f9336a-0ff7-4d58-de2c-8fc8e8e504b3"
      },
      "outputs": [
        {
          "output_type": "stream",
          "name": "stdout",
          "text": [
            "\u001b[?25l   \u001b[90m━━━━━━━━━━━━━━━━━━━━━━━━━━━━━━━━━━━━━━━━\u001b[0m \u001b[32m0.0/1.6 MB\u001b[0m \u001b[31m?\u001b[0m eta \u001b[36m-:--:--\u001b[0m\r\u001b[2K   \u001b[91m━━━━━━\u001b[0m\u001b[91m╸\u001b[0m\u001b[90m━━━━━━━━━━━━━━━━━━━━━━━━━━━━━━━━━\u001b[0m \u001b[32m0.3/1.6 MB\u001b[0m \u001b[31m9.7 MB/s\u001b[0m eta \u001b[36m0:00:01\u001b[0m\r\u001b[2K   \u001b[91m━━━━━━━━━━━━━━━━━━━━━━━━━━━━━━━━━━━━━━━\u001b[0m\u001b[91m╸\u001b[0m \u001b[32m1.6/1.6 MB\u001b[0m \u001b[31m25.1 MB/s\u001b[0m eta \u001b[36m0:00:01\u001b[0m\r\u001b[2K   \u001b[90m━━━━━━━━━━━━━━━━━━━━━━━━━━━━━━━━━━━━━━━━\u001b[0m \u001b[32m1.6/1.6 MB\u001b[0m \u001b[31m18.4 MB/s\u001b[0m eta \u001b[36m0:00:00\u001b[0m\n",
            "\u001b[?25h"
          ]
        },
        {
          "output_type": "display_data",
          "data": {
            "text/plain": [
              "<IPython.core.display.Markdown object>"
            ],
            "text/markdown": "# 🔍 Naive vs Binary Search Performance Checker"
          },
          "metadata": {}
        },
        {
          "output_type": "display_data",
          "data": {
            "text/plain": [
              "<IPython.core.display.Markdown object>"
            ],
            "text/markdown": "\nCompare the speed of **Naive Search** and **Binary Search** on a randomly generated sorted list.\n\nChoose the size of the list and the number you want to find. Then click 'Start Search' to see the performance results.\n"
          },
          "metadata": {}
        },
        {
          "output_type": "display_data",
          "data": {
            "text/plain": [
              "IntSlider(value=10, description='List Size:', max=10000, min=10, step=10)"
            ],
            "application/vnd.jupyter.widget-view+json": {
              "version_major": 2,
              "version_minor": 0,
              "model_id": "5d5cbf67ab014f2a83ac9cf32bebf59e"
            }
          },
          "metadata": {}
        },
        {
          "output_type": "display_data",
          "data": {
            "text/plain": [
              "IntText(value=2, description='Search For:')"
            ],
            "application/vnd.jupyter.widget-view+json": {
              "version_major": 2,
              "version_minor": 0,
              "model_id": "5ab5cdbab0de4ba998c7bb1425dc9e04"
            }
          },
          "metadata": {}
        },
        {
          "output_type": "display_data",
          "data": {
            "text/plain": [
              "Button(button_style='success', description='Start Search', style=ButtonStyle())"
            ],
            "application/vnd.jupyter.widget-view+json": {
              "version_major": 2,
              "version_minor": 0,
              "model_id": "a093fc2028cd4815ae4c7bce314f2522"
            }
          },
          "metadata": {}
        },
        {
          "output_type": "display_data",
          "data": {
            "text/plain": [
              "Output()"
            ],
            "application/vnd.jupyter.widget-view+json": {
              "version_major": 2,
              "version_minor": 0,
              "model_id": "520ecbd10eb24e25bb659351a772e062"
            }
          },
          "metadata": {}
        }
      ],
      "source": [
        "# Install widgets if not already installed\n",
        "!pip install ipywidgets --quiet\n",
        "\n",
        "import random\n",
        "import time\n",
        "import ipywidgets as widgets\n",
        "from IPython.display import display, Markdown\n",
        "\n",
        "# Function definitions\n",
        "def naive_search(arr, target):\n",
        "    for i in range(len(arr)):\n",
        "        if arr[i] == target:\n",
        "            return i\n",
        "    return -1\n",
        "\n",
        "def binary_search(arr, target, low=0, high=None):\n",
        "    if high is None:\n",
        "        high = len(arr) - 1\n",
        "    while low <= high:\n",
        "        mid = (low + high) // 2\n",
        "        if arr[mid] == target:\n",
        "            return mid\n",
        "        elif arr[mid] < target:\n",
        "            low = mid + 1\n",
        "        else:\n",
        "            high = mid - 1\n",
        "    return -1\n",
        "\n",
        "# UI Widgets\n",
        "list_size_slider = widgets.IntSlider(\n",
        "    value=10, min=10, max=10000, step=10, description='List Size:'\n",
        ")\n",
        "target_input = widgets.IntText(\n",
        "    value=2, description='Search For:'\n",
        ")\n",
        "search_button = widgets.Button(description=\"Start Search\", button_style='success')\n",
        "\n",
        "output = widgets.Output()\n",
        "\n",
        "def on_search_clicked(b):\n",
        "    with output:\n",
        "        output.clear_output()\n",
        "        length = list_size_slider.value\n",
        "        target = target_input.value\n",
        "\n",
        "        try:\n",
        "            sorted_list = sorted(random.sample(range(-3 * length, 3 * length), length - 1) + [target])\n",
        "        except ValueError as e:\n",
        "            print(f\"Error generating list: {e}\")\n",
        "            return\n",
        "\n",
        "        iteration = 1000\n",
        "\n",
        "        start_time = time.perf_counter()\n",
        "        for _ in range(iteration):\n",
        "            binary_result = binary_search(sorted_list, target)\n",
        "        binary_time = (time.perf_counter() - start_time) / iteration\n",
        "\n",
        "        start_time = time.perf_counter()\n",
        "        for _ in range(iteration):\n",
        "            naive_result = naive_search(sorted_list, target)\n",
        "        naive_time = (time.perf_counter() - start_time) / iteration\n",
        "\n",
        "        display(Markdown(\"### 📊 **Search Results**\"))\n",
        "        print(f\"Naive Search Index: {naive_result} ⏱️ {naive_time:.10f} seconds\")\n",
        "        print(f\"Binary Search Index: {binary_result} ⏱️ {binary_time:.10f} seconds\\n\")\n",
        "\n",
        "        display(Markdown(\"### ⚖️ **Performance Comparison**\"))\n",
        "        print(f\"🔸 Naive Search took {naive_time:.10f} seconds on average.\")\n",
        "        print(f\"🔹 Binary Search took {binary_time:.10f} seconds on average.\\n\")\n",
        "\n",
        "        if binary_time < naive_time:\n",
        "            print(\"🚀 Binary Search is faster and more efficient on sorted lists!\")\n",
        "        else:\n",
        "            print(\"ℹ️ Both searches performed similarly due to small list size.\")\n",
        "\n",
        "search_button.on_click(on_search_clicked)\n",
        "\n",
        "# Display UI\n",
        "display(Markdown(\"# 🔍 Naive vs Binary Search Performance Checker\"))\n",
        "display(Markdown(\"\"\"\n",
        "Compare the speed of **Naive Search** and **Binary Search** on a randomly generated sorted list.\n",
        "\n",
        "Choose the size of the list and the number you want to find. Then click 'Start Search' to see the performance results.\n",
        "\"\"\"))\n",
        "display(list_size_slider, target_input, search_button, output)\n"
      ]
    }
  ]
}